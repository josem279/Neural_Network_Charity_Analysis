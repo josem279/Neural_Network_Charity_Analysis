{
 "cells": [
  {
   "cell_type": "code",
   "execution_count": 1,
   "metadata": {},
   "outputs": [],
   "source": [
    "# Import our dependencies\n",
    "import pandas as pd\n",
    "import matplotlib as plt\n",
    "from sklearn.datasets import make_blobs\n",
    "import sklearn as skl\n",
    "import tensorflow as tf"
   ]
  },
  {
   "cell_type": "code",
   "execution_count": 2,
   "metadata": {},
   "outputs": [
    {
     "data": {
      "text/plain": [
       "<matplotlib.axes._subplots.AxesSubplot at 0x19c6c305f48>"
      ]
     },
     "execution_count": 2,
     "metadata": {},
     "output_type": "execute_result"
    },
    {
     "data": {
      "image/png": "[encoded data removed]",
      "text/plain": [
       "<Figure size 432x288 with 2 Axes>"
      ]
     },
     "metadata": {
      "needs_background": "light"
     },
     "output_type": "display_data"
    }
   ],
   "source": [
    "# Generate dummy dataset\n",
    "X, y = make_blobs(n_samples=1000, centers=2, n_features=2, random_state=78)\n",
    "\n",
    "# Creating a DF with the dummy data\n",
    "df = pd.DataFrame(X, columns=[\"Feature 1\", \"Feature 2\"])\n",
    "df[\"Target\"] = y\n",
    "\n",
    "# Plotting the dummy data\n",
    "df.plot.scatter(x=\"Feature 1\", y=\"Feature 2\", c=\"Target\", colormap=\"winter\")"
   ]
  },
  {
   "cell_type": "code",
   "execution_count": 3,
   "metadata": {},
   "outputs": [],
   "source": [
    "# Use sklearn to split dataset\n",
    "from sklearn.model_selection import train_test_split\n",
    "X_train, X_test, y_train, y_test = train_test_split(X, y, random_state=78)"
   ]
  },
  {
   "cell_type": "code",
   "execution_count": 4,
   "metadata": {},
   "outputs": [],
   "source": [
    "# Create scaler instance\n",
    "X_scaler = skl.preprocessing.StandardScaler()\n",
    "\n",
    "# Fit the scaler\n",
    "X_scaler.fit(X_train)\n",
    "\n",
    "# Scale the data\n",
    "X_train_scaled = X_scaler.transform(X_train)\n",
    "X_test_scaled = X_scaler.transform(X_test)"
   ]
  },
  {
   "cell_type": "code",
   "execution_count": 5,
   "metadata": {},
   "outputs": [],
   "source": [
    "# Create the Keras Sequential model\n",
    "nn_model = tf.keras.models.Sequential()"
   ]
  },
  {
   "cell_type": "code",
   "execution_count": 6,
   "metadata": {},
   "outputs": [],
   "source": [
    "# Add our first Dense layer, including the input layer\n",
    "nn_model.add(tf.keras.layers.Dense(units=1, activation=\"relu\", input_dim=2))"
   ]
  },
  {
   "cell_type": "code",
   "execution_count": 8,
   "metadata": {},
   "outputs": [],
   "source": [
    "# Add the output layer that uses a probability activation function\n",
    "nn_model.add(tf.keras.layers.Dense(units=1, activation=\"sigmoid\"))"
   ]
  },
  {
   "cell_type": "code",
   "execution_count": 9,
   "metadata": {},
   "outputs": [
    {
     "name": "stdout",
     "output_type": "stream",
     "text": [
      "Model: \"sequential\"\n",
      "_________________________________________________________________\n",
      "Layer (type)                 Output Shape              Param #   \n",
      "=================================================================\n",
      "dense (Dense)                (None, 1)                 3         \n",
      "_________________________________________________________________\n",
      "dense_1 (Dense)              (None, 1)                 2         \n",
      "=================================================================\n",
      "Total params: 5\n",
      "Trainable params: 5\n",
      "Non-trainable params: 0\n",
      "_________________________________________________________________\n"
     ]
    }
   ],
   "source": [
    "# Check the structure of the Sequential model\n",
    "nn_model.summary()"
   ]
  },
  {
   "cell_type": "code",
   "execution_count": 10,
   "metadata": {},
   "outputs": [],
   "source": [
    "# Compile the Sequential model together and customize metrics\n",
    "nn_model.compile(loss=\"binary_crossentropy\", optimizer=\"adam\", metrics=[\"accuracy\"])"
   ]
  },
  {
   "cell_type": "code",
   "execution_count": 11,
   "metadata": {},
   "outputs": [
    {
     "name": "stdout",
     "output_type": "stream",
     "text": [
      "Epoch 1/100\n",
      "24/24 [==============================] - 0s 584us/step - loss: 1.1565 - accuracy: 0.0507\n",
      "Epoch 2/100\n",
      "24/24 [==============================] - 0s 542us/step - loss: 1.1090 - accuracy: 0.0240\n",
      "Epoch 3/100\n",
      "24/24 [==============================] - 0s 542us/step - loss: 1.0661 - accuracy: 0.0280\n",
      "Epoch 4/100\n",
      "24/24 [==============================] - 0s 500us/step - loss: 1.0277 - accuracy: 0.0413\n",
      "Epoch 5/100\n",
      "24/24 [==============================] - 0s 500us/step - loss: 0.9930 - accuracy: 0.0640\n",
      "Epoch 6/100\n",
      "24/24 [==============================] - 0s 500us/step - loss: 0.9620 - accuracy: 0.0813\n",
      "Epoch 7/100\n",
      "24/24 [==============================] - 0s 542us/step - loss: 0.9354 - accuracy: 0.1000\n",
      "Epoch 8/100\n",
      "24/24 [==============================] - 0s 542us/step - loss: 0.9112 - accuracy: 0.1280\n",
      "Epoch 9/100\n",
      "24/24 [==============================] - 0s 542us/step - loss: 0.8900 - accuracy: 0.1493\n",
      "Epoch 10/100\n",
      "24/24 [==============================] - 0s 500us/step - loss: 0.8711 - accuracy: 0.1787\n",
      "Epoch 11/100\n",
      "24/24 [==============================] - 0s 500us/step - loss: 0.8544 - accuracy: 0.1973\n",
      "Epoch 12/100\n",
      "24/24 [==============================] - 0s 500us/step - loss: 0.8395 - accuracy: 0.2120\n",
      "Epoch 13/100\n",
      "24/24 [==============================] - 0s 542us/step - loss: 0.8264 - accuracy: 0.2333\n",
      "Epoch 14/100\n",
      "24/24 [==============================] - 0s 500us/step - loss: 0.8143 - accuracy: 0.2587\n",
      "Epoch 15/100\n",
      "24/24 [==============================] - 0s 458us/step - loss: 0.8036 - accuracy: 0.2733\n",
      "Epoch 16/100\n",
      "24/24 [==============================] - 0s 500us/step - loss: 0.7939 - accuracy: 0.2947\n",
      "Epoch 17/100\n",
      "24/24 [==============================] - 0s 542us/step - loss: 0.7850 - accuracy: 0.3040\n",
      "Epoch 18/100\n",
      "24/24 [==============================] - 0s 542us/step - loss: 0.7768 - accuracy: 0.3200\n",
      "Epoch 19/100\n",
      "24/24 [==============================] - 0s 500us/step - loss: 0.7694 - accuracy: 0.3333\n",
      "Epoch 20/100\n",
      "24/24 [==============================] - 0s 500us/step - loss: 0.7624 - accuracy: 0.3467\n",
      "Epoch 21/100\n",
      "24/24 [==============================] - 0s 500us/step - loss: 0.7559 - accuracy: 0.3667\n",
      "Epoch 22/100\n",
      "24/24 [==============================] - 0s 500us/step - loss: 0.7499 - accuracy: 0.3840\n",
      "Epoch 23/100\n",
      "24/24 [==============================] - 0s 500us/step - loss: 0.7443 - accuracy: 0.3973\n",
      "Epoch 24/100\n",
      "24/24 [==============================] - 0s 500us/step - loss: 0.7389 - accuracy: 0.4133\n",
      "Epoch 25/100\n",
      "24/24 [==============================] - 0s 500us/step - loss: 0.7338 - accuracy: 0.4253\n",
      "Epoch 26/100\n",
      "24/24 [==============================] - 0s 458us/step - loss: 0.7289 - accuracy: 0.4320\n",
      "Epoch 27/100\n",
      "24/24 [==============================] - 0s 542us/step - loss: 0.7245 - accuracy: 0.4413\n",
      "Epoch 28/100\n",
      "24/24 [==============================] - 0s 542us/step - loss: 0.7202 - accuracy: 0.4533\n",
      "Epoch 29/100\n",
      "24/24 [==============================] - 0s 500us/step - loss: 0.7161 - accuracy: 0.4627\n",
      "Epoch 30/100\n",
      "24/24 [==============================] - 0s 542us/step - loss: 0.7122 - accuracy: 0.4760\n",
      "Epoch 31/100\n",
      "24/24 [==============================] - 0s 500us/step - loss: 0.7084 - accuracy: 0.4840\n",
      "Epoch 32/100\n",
      "24/24 [==============================] - 0s 500us/step - loss: 0.7048 - accuracy: 0.4920\n",
      "Epoch 33/100\n",
      "24/24 [==============================] - 0s 500us/step - loss: 0.7015 - accuracy: 0.4987\n",
      "Epoch 34/100\n",
      "24/24 [==============================] - 0s 500us/step - loss: 0.6980 - accuracy: 0.5093\n",
      "Epoch 35/100\n",
      "24/24 [==============================] - 0s 500us/step - loss: 0.6946 - accuracy: 0.5173\n",
      "Epoch 36/100\n",
      "24/24 [==============================] - 0s 542us/step - loss: 0.6910 - accuracy: 0.5253\n",
      "Epoch 37/100\n",
      "24/24 [==============================] - 0s 542us/step - loss: 0.6875 - accuracy: 0.5320\n",
      "Epoch 38/100\n",
      "24/24 [==============================] - 0s 542us/step - loss: 0.6839 - accuracy: 0.5427\n",
      "Epoch 39/100\n",
      "24/24 [==============================] - 0s 500us/step - loss: 0.6804 - accuracy: 0.5560\n",
      "Epoch 40/100\n",
      "24/24 [==============================] - 0s 500us/step - loss: 0.6768 - accuracy: 0.5653\n",
      "Epoch 41/100\n",
      "24/24 [==============================] - 0s 500us/step - loss: 0.6729 - accuracy: 0.5787\n",
      "Epoch 42/100\n",
      "24/24 [==============================] - 0s 542us/step - loss: 0.6688 - accuracy: 0.5867\n",
      "Epoch 43/100\n",
      "24/24 [==============================] - 0s 583us/step - loss: 0.6644 - accuracy: 0.5960\n",
      "Epoch 44/100\n",
      "24/24 [==============================] - 0s 542us/step - loss: 0.6599 - accuracy: 0.6093\n",
      "Epoch 45/100\n",
      "24/24 [==============================] - 0s 542us/step - loss: 0.6553 - accuracy: 0.6160\n",
      "Epoch 46/100\n",
      "24/24 [==============================] - 0s 500us/step - loss: 0.6508 - accuracy: 0.6347\n",
      "Epoch 47/100\n",
      "24/24 [==============================] - 0s 500us/step - loss: 0.6459 - accuracy: 0.6520\n",
      "Epoch 48/100\n",
      "24/24 [==============================] - 0s 500us/step - loss: 0.6412 - accuracy: 0.6600\n",
      "Epoch 49/100\n",
      "24/24 [==============================] - 0s 500us/step - loss: 0.6361 - accuracy: 0.6653\n",
      "Epoch 50/100\n",
      "24/24 [==============================] - 0s 542us/step - loss: 0.6309 - accuracy: 0.6733\n",
      "Epoch 51/100\n",
      "24/24 [==============================] - 0s 542us/step - loss: 0.6254 - accuracy: 0.6840\n",
      "Epoch 52/100\n",
      "24/24 [==============================] - 0s 500us/step - loss: 0.6199 - accuracy: 0.6893\n",
      "Epoch 53/100\n",
      "24/24 [==============================] - 0s 500us/step - loss: 0.6144 - accuracy: 0.7013\n",
      "Epoch 54/100\n",
      "24/24 [==============================] - 0s 542us/step - loss: 0.6087 - accuracy: 0.7120\n",
      "Epoch 55/100\n",
      "24/24 [==============================] - 0s 500us/step - loss: 0.6030 - accuracy: 0.7240\n",
      "Epoch 56/100\n",
      "24/24 [==============================] - 0s 542us/step - loss: 0.5971 - accuracy: 0.7267\n",
      "Epoch 57/100\n",
      "24/24 [==============================] - 0s 542us/step - loss: 0.5912 - accuracy: 0.7333\n",
      "Epoch 58/100\n",
      "24/24 [==============================] - 0s 542us/step - loss: 0.5854 - accuracy: 0.7400\n",
      "Epoch 59/100\n",
      "24/24 [==============================] - 0s 542us/step - loss: 0.5793 - accuracy: 0.7453\n",
      "Epoch 60/100\n",
      "24/24 [==============================] - 0s 583us/step - loss: 0.5734 - accuracy: 0.7480\n",
      "Epoch 61/100\n",
      "24/24 [==============================] - 0s 542us/step - loss: 0.5672 - accuracy: 0.7520\n",
      "Epoch 62/100\n",
      "24/24 [==============================] - 0s 542us/step - loss: 0.5611 - accuracy: 0.7573\n",
      "Epoch 63/100\n",
      "24/24 [==============================] - 0s 542us/step - loss: 0.5549 - accuracy: 0.7627\n",
      "Epoch 64/100\n",
      "24/24 [==============================] - 0s 542us/step - loss: 0.5485 - accuracy: 0.7627\n",
      "Epoch 65/100\n",
      "24/24 [==============================] - 0s 542us/step - loss: 0.5422 - accuracy: 0.7707\n",
      "Epoch 66/100\n",
      "24/24 [==============================] - 0s 542us/step - loss: 0.5357 - accuracy: 0.7760\n",
      "Epoch 67/100\n",
      "24/24 [==============================] - 0s 500us/step - loss: 0.5289 - accuracy: 0.7840\n",
      "Epoch 68/100\n",
      "24/24 [==============================] - 0s 500us/step - loss: 0.5220 - accuracy: 0.7893\n",
      "Epoch 69/100\n",
      "24/24 [==============================] - 0s 542us/step - loss: 0.5152 - accuracy: 0.7933\n",
      "Epoch 70/100\n",
      "24/24 [==============================] - 0s 500us/step - loss: 0.5082 - accuracy: 0.8027\n",
      "Epoch 71/100\n",
      "24/24 [==============================] - 0s 500us/step - loss: 0.5013 - accuracy: 0.8053\n",
      "Epoch 72/100\n",
      "24/24 [==============================] - 0s 542us/step - loss: 0.4943 - accuracy: 0.8093\n",
      "Epoch 73/100\n",
      "24/24 [==============================] - 0s 542us/step - loss: 0.4871 - accuracy: 0.8147\n",
      "Epoch 74/100\n",
      "24/24 [==============================] - 0s 500us/step - loss: 0.4800 - accuracy: 0.8253\n",
      "Epoch 75/100\n",
      "24/24 [==============================] - 0s 542us/step - loss: 0.4728 - accuracy: 0.8347\n",
      "Epoch 76/100\n",
      "24/24 [==============================] - 0s 500us/step - loss: 0.4657 - accuracy: 0.8387\n",
      "Epoch 77/100\n",
      "24/24 [==============================] - 0s 542us/step - loss: 0.4588 - accuracy: 0.8440\n",
      "Epoch 78/100\n",
      "24/24 [==============================] - 0s 542us/step - loss: 0.4519 - accuracy: 0.8480\n",
      "Epoch 79/100\n",
      "24/24 [==============================] - 0s 542us/step - loss: 0.4452 - accuracy: 0.8520\n",
      "Epoch 80/100\n",
      "24/24 [==============================] - 0s 542us/step - loss: 0.4383 - accuracy: 0.8547\n",
      "Epoch 81/100\n"
     ]
    },
    {
     "name": "stdout",
     "output_type": "stream",
     "text": [
      "24/24 [==============================] - 0s 500us/step - loss: 0.4316 - accuracy: 0.8587\n",
      "Epoch 82/100\n",
      "24/24 [==============================] - 0s 542us/step - loss: 0.4247 - accuracy: 0.8627\n",
      "Epoch 83/100\n",
      "24/24 [==============================] - 0s 542us/step - loss: 0.4180 - accuracy: 0.8680\n",
      "Epoch 84/100\n",
      "24/24 [==============================] - 0s 500us/step - loss: 0.4112 - accuracy: 0.8720\n",
      "Epoch 85/100\n",
      "24/24 [==============================] - 0s 542us/step - loss: 0.4045 - accuracy: 0.8760\n",
      "Epoch 86/100\n",
      "24/24 [==============================] - 0s 542us/step - loss: 0.3977 - accuracy: 0.8787\n",
      "Epoch 87/100\n",
      "24/24 [==============================] - 0s 542us/step - loss: 0.3910 - accuracy: 0.8800\n",
      "Epoch 88/100\n",
      "24/24 [==============================] - 0s 500us/step - loss: 0.3845 - accuracy: 0.8827\n",
      "Epoch 89/100\n",
      "24/24 [==============================] - 0s 500us/step - loss: 0.3782 - accuracy: 0.8840\n",
      "Epoch 90/100\n",
      "24/24 [==============================] - 0s 500us/step - loss: 0.3719 - accuracy: 0.8853\n",
      "Epoch 91/100\n",
      "24/24 [==============================] - 0s 500us/step - loss: 0.3655 - accuracy: 0.8893\n",
      "Epoch 92/100\n",
      "24/24 [==============================] - 0s 542us/step - loss: 0.3593 - accuracy: 0.8947\n",
      "Epoch 93/100\n",
      "24/24 [==============================] - 0s 500us/step - loss: 0.3530 - accuracy: 0.8973\n",
      "Epoch 94/100\n",
      "24/24 [==============================] - 0s 500us/step - loss: 0.3469 - accuracy: 0.9000\n",
      "Epoch 95/100\n",
      "24/24 [==============================] - 0s 500us/step - loss: 0.3407 - accuracy: 0.9040\n",
      "Epoch 96/100\n",
      "24/24 [==============================] - 0s 500us/step - loss: 0.3345 - accuracy: 0.9080\n",
      "Epoch 97/100\n",
      "24/24 [==============================] - 0s 500us/step - loss: 0.3282 - accuracy: 0.9093\n",
      "Epoch 98/100\n",
      "24/24 [==============================] - 0s 500us/step - loss: 0.3220 - accuracy: 0.9093\n",
      "Epoch 99/100\n",
      "24/24 [==============================] - 0s 500us/step - loss: 0.3160 - accuracy: 0.9160\n",
      "Epoch 100/100\n",
      "24/24 [==============================] - 0s 542us/step - loss: 0.3100 - accuracy: 0.9213\n"
     ]
    }
   ],
   "source": [
    "# Fit the model to the training data\n",
    "fit_model = nn_model.fit(X_train_scaled, y_train, epochs=100)"
   ]
  },
  {
   "cell_type": "code",
   "execution_count": null,
   "metadata": {},
   "outputs": [],
   "source": []
  }
 ],
 "metadata": {
  "kernelspec": {
   "display_name": "mlenv",
   "language": "python",
   "name": "mlenv"
  },
  "language_info": {
   "codemirror_mode": {
    "name": "ipython",
    "version": 3
   },
   "file_extension": ".py",
   "mimetype": "text/x-python",
   "name": "python",
   "nbconvert_exporter": "python",
   "pygments_lexer": "ipython3",
   "version": "3.7.7"
  }
 },
 "nbformat": 4,
 "nbformat_minor": 4
}
