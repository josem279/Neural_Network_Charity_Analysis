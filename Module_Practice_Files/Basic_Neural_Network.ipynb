{
 "cells": [
  {
   "cell_type": "code",
   "execution_count": 1,
   "metadata": {},
   "outputs": [],
   "source": [
    "# Import our dependencies\n",
    "import pandas as pd\n",
    "import matplotlib as plt\n",
    "from sklearn.datasets import make_blobs\n",
    "import sklearn as skl\n",
    "import tensorflow as tf"
   ]
  },
  {
   "cell_type": "code",
   "execution_count": 2,
   "metadata": {},
   "outputs": [
    {
     "data": {
      "text/plain": [
       "<matplotlib.axes._subplots.AxesSubplot at 0x143e73d21c8>"
      ]
     },
     "execution_count": 2,
     "metadata": {},
     "output_type": "execute_result"
    },
    {
     "data": {
      "image/png": "[encoded data removed]",
      "text/plain": [
       "<Figure size 432x288 with 2 Axes>"
      ]
     },
     "metadata": {
      "needs_background": "light"
     },
     "output_type": "display_data"
    }
   ],
   "source": [
    "# Generate dummy dataset\n",
    "X, y = make_blobs(n_samples=1000, centers=2, n_features=2, random_state=78)\n",
    "\n",
    "# Creating a DF with the dummy data\n",
    "df = pd.DataFrame(X, columns=[\"Feature 1\", \"Feature 2\"])\n",
    "df[\"Target\"] = y\n",
    "\n",
    "# Plotting the dummy data\n",
    "df.plot.scatter(x=\"Feature 1\", y=\"Feature 2\", c=\"Target\", colormap=\"winter\")"
   ]
  },
  {
   "cell_type": "code",
   "execution_count": 3,
   "metadata": {},
   "outputs": [],
   "source": [
    "# Use sklearn to split dataset\n",
    "from sklearn.model_selection import train_test_split\n",
    "X_train, X_test, y_train, y_test = train_test_split(X, y, random_state=78)"
   ]
  },
  {
   "cell_type": "code",
   "execution_count": 4,
   "metadata": {},
   "outputs": [],
   "source": [
    "# Create scaler instance\n",
    "X_scaler = skl.preprocessing.StandardScaler()\n",
    "\n",
    "# Fit the scaler\n",
    "X_scaler.fit(X_train)\n",
    "\n",
    "# Scale the data\n",
    "X_train_scaled = X_scaler.transform(X_train)\n",
    "X_test_scaled = X_scaler.transform(X_test)"
   ]
  },
  {
   "cell_type": "code",
   "execution_count": 5,
   "metadata": {},
   "outputs": [],
   "source": [
    "# Create the Keras Sequential model\n",
    "nn_model = tf.keras.models.Sequential()"
   ]
  },
  {
   "cell_type": "code",
   "execution_count": 6,
   "metadata": {},
   "outputs": [],
   "source": [
    "# Add our first Dense layer, including the input layer\n",
    "nn_model.add(tf.keras.layers.Dense(units=1, activation=\"relu\", input_dim=2))"
   ]
  },
  {
   "cell_type": "code",
   "execution_count": 7,
   "metadata": {},
   "outputs": [],
   "source": [
    "# Add the output layer that uses a probability activation function\n",
    "nn_model.add(tf.keras.layers.Dense(units=1, activation=\"sigmoid\"))"
   ]
  },
  {
   "cell_type": "code",
   "execution_count": 8,
   "metadata": {},
   "outputs": [
    {
     "name": "stdout",
     "output_type": "stream",
     "text": [
      "Model: \"sequential\"\n",
      "_________________________________________________________________\n",
      "Layer (type)                 Output Shape              Param #   \n",
      "=================================================================\n",
      "dense (Dense)                (None, 1)                 3         \n",
      "_________________________________________________________________\n",
      "dense_1 (Dense)              (None, 1)                 2         \n",
      "=================================================================\n",
      "Total params: 5\n",
      "Trainable params: 5\n",
      "Non-trainable params: 0\n",
      "_________________________________________________________________\n"
     ]
    }
   ],
   "source": [
    "# Check the structure of the Sequential model\n",
    "nn_model.summary()"
   ]
  },
  {
   "cell_type": "code",
   "execution_count": 9,
   "metadata": {},
   "outputs": [],
   "source": [
    "# Compile the Sequential model together and customize metrics\n",
    "nn_model.compile(loss=\"binary_crossentropy\", optimizer=\"adam\", metrics=[\"accuracy\"])"
   ]
  },
  {
   "cell_type": "code",
   "execution_count": 10,
   "metadata": {},
   "outputs": [
    {
     "name": "stdout",
     "output_type": "stream",
     "text": [
      "Epoch 1/100\n",
      "24/24 [==============================] - 0s 542us/step - loss: 0.7188 - accuracy: 0.4320\n",
      "Epoch 2/100\n",
      "24/24 [==============================] - 0s 500us/step - loss: 0.7074 - accuracy: 0.4547\n",
      "Epoch 3/100\n",
      "24/24 [==============================] - 0s 500us/step - loss: 0.6978 - accuracy: 0.4840\n",
      "Epoch 4/100\n",
      "24/24 [==============================] - 0s 500us/step - loss: 0.6897 - accuracy: 0.5293\n",
      "Epoch 5/100\n",
      "24/24 [==============================] - 0s 500us/step - loss: 0.6824 - accuracy: 0.5587\n",
      "Epoch 6/100\n",
      "24/24 [==============================] - 0s 500us/step - loss: 0.6758 - accuracy: 0.5813\n",
      "Epoch 7/100\n",
      "24/24 [==============================] - 0s 542us/step - loss: 0.6689 - accuracy: 0.6213\n",
      "Epoch 8/100\n",
      "24/24 [==============================] - 0s 542us/step - loss: 0.6614 - accuracy: 0.6640\n",
      "Epoch 9/100\n",
      "24/24 [==============================] - 0s 500us/step - loss: 0.6522 - accuracy: 0.6933\n",
      "Epoch 10/100\n",
      "24/24 [==============================] - 0s 542us/step - loss: 0.6414 - accuracy: 0.7347\n",
      "Epoch 11/100\n",
      "24/24 [==============================] - 0s 542us/step - loss: 0.6284 - accuracy: 0.7800\n",
      "Epoch 12/100\n",
      "24/24 [==============================] - 0s 500us/step - loss: 0.6134 - accuracy: 0.8147\n",
      "Epoch 13/100\n",
      "24/24 [==============================] - 0s 542us/step - loss: 0.5946 - accuracy: 0.8627\n",
      "Epoch 14/100\n",
      "24/24 [==============================] - 0s 500us/step - loss: 0.5728 - accuracy: 0.9147\n",
      "Epoch 15/100\n",
      "24/24 [==============================] - 0s 500us/step - loss: 0.5498 - accuracy: 0.9507\n",
      "Epoch 16/100\n",
      "24/24 [==============================] - 0s 542us/step - loss: 0.5260 - accuracy: 0.9760\n",
      "Epoch 17/100\n",
      "24/24 [==============================] - 0s 500us/step - loss: 0.5033 - accuracy: 0.9800\n",
      "Epoch 18/100\n",
      "24/24 [==============================] - 0s 542us/step - loss: 0.4816 - accuracy: 0.9907\n",
      "Epoch 19/100\n",
      "24/24 [==============================] - 0s 500us/step - loss: 0.4613 - accuracy: 0.9933\n",
      "Epoch 20/100\n",
      "24/24 [==============================] - 0s 500us/step - loss: 0.4420 - accuracy: 0.9960\n",
      "Epoch 21/100\n",
      "24/24 [==============================] - 0s 542us/step - loss: 0.4238 - accuracy: 1.0000\n",
      "Epoch 22/100\n",
      "24/24 [==============================] - 0s 542us/step - loss: 0.4069 - accuracy: 1.0000\n",
      "Epoch 23/100\n",
      "24/24 [==============================] - 0s 584us/step - loss: 0.3909 - accuracy: 1.0000\n",
      "Epoch 24/100\n",
      "24/24 [==============================] - 0s 3ms/step - loss: 0.3760 - accuracy: 1.0000\n",
      "Epoch 25/100\n",
      "24/24 [==============================] - 0s 542us/step - loss: 0.3621 - accuracy: 1.0000\n",
      "Epoch 26/100\n",
      "24/24 [==============================] - 0s 500us/step - loss: 0.3490 - accuracy: 1.0000\n",
      "Epoch 27/100\n",
      "24/24 [==============================] - 0s 583us/step - loss: 0.3368 - accuracy: 1.0000\n",
      "Epoch 28/100\n",
      "24/24 [==============================] - 0s 583us/step - loss: 0.3252 - accuracy: 1.0000\n",
      "Epoch 29/100\n",
      "24/24 [==============================] - 0s 542us/step - loss: 0.3143 - accuracy: 1.0000\n",
      "Epoch 30/100\n",
      "24/24 [==============================] - 0s 583us/step - loss: 0.3040 - accuracy: 1.0000\n",
      "Epoch 31/100\n",
      "24/24 [==============================] - 0s 542us/step - loss: 0.2942 - accuracy: 1.0000\n",
      "Epoch 32/100\n",
      "24/24 [==============================] - 0s 500us/step - loss: 0.2850 - accuracy: 1.0000\n",
      "Epoch 33/100\n",
      "24/24 [==============================] - 0s 542us/step - loss: 0.2763 - accuracy: 1.0000\n",
      "Epoch 34/100\n",
      "24/24 [==============================] - 0s 542us/step - loss: 0.2681 - accuracy: 1.0000\n",
      "Epoch 35/100\n",
      "24/24 [==============================] - 0s 542us/step - loss: 0.2603 - accuracy: 1.0000\n",
      "Epoch 36/100\n",
      "24/24 [==============================] - 0s 542us/step - loss: 0.2529 - accuracy: 1.0000\n",
      "Epoch 37/100\n",
      "24/24 [==============================] - 0s 542us/step - loss: 0.2458 - accuracy: 1.0000\n",
      "Epoch 38/100\n",
      "24/24 [==============================] - 0s 542us/step - loss: 0.2391 - accuracy: 1.0000\n",
      "Epoch 39/100\n",
      "24/24 [==============================] - 0s 542us/step - loss: 0.2326 - accuracy: 1.0000\n",
      "Epoch 40/100\n",
      "24/24 [==============================] - 0s 542us/step - loss: 0.2265 - accuracy: 1.0000\n",
      "Epoch 41/100\n",
      "24/24 [==============================] - 0s 583us/step - loss: 0.2206 - accuracy: 1.0000\n",
      "Epoch 42/100\n",
      "24/24 [==============================] - 0s 542us/step - loss: 0.2151 - accuracy: 1.0000\n",
      "Epoch 43/100\n",
      "24/24 [==============================] - 0s 542us/step - loss: 0.2097 - accuracy: 1.0000\n",
      "Epoch 44/100\n",
      "24/24 [==============================] - 0s 542us/step - loss: 0.2045 - accuracy: 1.0000\n",
      "Epoch 45/100\n",
      "24/24 [==============================] - 0s 542us/step - loss: 0.1996 - accuracy: 1.0000\n",
      "Epoch 46/100\n",
      "24/24 [==============================] - 0s 542us/step - loss: 0.1949 - accuracy: 1.0000\n",
      "Epoch 47/100\n",
      "24/24 [==============================] - 0s 500us/step - loss: 0.1903 - accuracy: 1.0000\n",
      "Epoch 48/100\n",
      "24/24 [==============================] - 0s 500us/step - loss: 0.1859 - accuracy: 1.0000\n",
      "Epoch 49/100\n",
      "24/24 [==============================] - 0s 542us/step - loss: 0.1816 - accuracy: 1.0000\n",
      "Epoch 50/100\n",
      "24/24 [==============================] - 0s 500us/step - loss: 0.1776 - accuracy: 1.0000\n",
      "Epoch 51/100\n",
      "24/24 [==============================] - 0s 553us/step - loss: 0.1736 - accuracy: 1.0000\n",
      "Epoch 52/100\n",
      "24/24 [==============================] - 0s 583us/step - loss: 0.1698 - accuracy: 1.0000\n",
      "Epoch 53/100\n",
      "24/24 [==============================] - 0s 542us/step - loss: 0.1662 - accuracy: 1.0000\n",
      "Epoch 54/100\n",
      "24/24 [==============================] - 0s 542us/step - loss: 0.1626 - accuracy: 1.0000\n",
      "Epoch 55/100\n",
      "24/24 [==============================] - 0s 500us/step - loss: 0.1592 - accuracy: 1.0000\n",
      "Epoch 56/100\n",
      "24/24 [==============================] - 0s 542us/step - loss: 0.1559 - accuracy: 1.0000\n",
      "Epoch 57/100\n",
      "24/24 [==============================] - 0s 625us/step - loss: 0.1526 - accuracy: 1.0000\n",
      "Epoch 58/100\n",
      "24/24 [==============================] - 0s 542us/step - loss: 0.1495 - accuracy: 1.0000\n",
      "Epoch 59/100\n",
      "24/24 [==============================] - 0s 583us/step - loss: 0.1465 - accuracy: 1.0000\n",
      "Epoch 60/100\n",
      "24/24 [==============================] - 0s 542us/step - loss: 0.1436 - accuracy: 1.0000\n",
      "Epoch 61/100\n",
      "24/24 [==============================] - 0s 500us/step - loss: 0.1407 - accuracy: 1.0000\n",
      "Epoch 62/100\n",
      "24/24 [==============================] - 0s 542us/step - loss: 0.1380 - accuracy: 1.0000\n",
      "Epoch 63/100\n",
      "24/24 [==============================] - 0s 500us/step - loss: 0.1353 - accuracy: 1.0000\n",
      "Epoch 64/100\n",
      "24/24 [==============================] - 0s 542us/step - loss: 0.1328 - accuracy: 1.0000\n",
      "Epoch 65/100\n",
      "24/24 [==============================] - 0s 542us/step - loss: 0.1302 - accuracy: 1.0000\n",
      "Epoch 66/100\n",
      "24/24 [==============================] - 0s 500us/step - loss: 0.1278 - accuracy: 1.0000\n",
      "Epoch 67/100\n",
      "24/24 [==============================] - 0s 500us/step - loss: 0.1254 - accuracy: 1.0000\n",
      "Epoch 68/100\n",
      "24/24 [==============================] - 0s 542us/step - loss: 0.1231 - accuracy: 1.0000\n",
      "Epoch 69/100\n",
      "24/24 [==============================] - 0s 500us/step - loss: 0.1209 - accuracy: 1.0000\n",
      "Epoch 70/100\n",
      "24/24 [==============================] - 0s 500us/step - loss: 0.1187 - accuracy: 1.0000\n",
      "Epoch 71/100\n",
      "24/24 [==============================] - 0s 500us/step - loss: 0.1166 - accuracy: 1.0000\n",
      "Epoch 72/100\n",
      "24/24 [==============================] - 0s 542us/step - loss: 0.1145 - accuracy: 1.0000\n",
      "Epoch 73/100\n",
      "24/24 [==============================] - 0s 500us/step - loss: 0.1125 - accuracy: 1.0000\n",
      "Epoch 74/100\n",
      "24/24 [==============================] - 0s 542us/step - loss: 0.1105 - accuracy: 1.0000\n",
      "Epoch 75/100\n",
      "24/24 [==============================] - 0s 542us/step - loss: 0.1086 - accuracy: 1.0000\n",
      "Epoch 76/100\n",
      "24/24 [==============================] - 0s 500us/step - loss: 0.1068 - accuracy: 1.0000\n",
      "Epoch 77/100\n",
      "24/24 [==============================] - 0s 500us/step - loss: 0.1049 - accuracy: 1.0000\n",
      "Epoch 78/100\n",
      "24/24 [==============================] - 0s 500us/step - loss: 0.1032 - accuracy: 1.0000\n",
      "Epoch 79/100\n",
      "24/24 [==============================] - 0s 542us/step - loss: 0.1014 - accuracy: 1.0000\n",
      "Epoch 80/100\n",
      "24/24 [==============================] - 0s 500us/step - loss: 0.0997 - accuracy: 1.0000\n",
      "Epoch 81/100\n"
     ]
    },
    {
     "name": "stdout",
     "output_type": "stream",
     "text": [
      "24/24 [==============================] - 0s 542us/step - loss: 0.0981 - accuracy: 1.0000\n",
      "Epoch 82/100\n",
      "24/24 [==============================] - 0s 542us/step - loss: 0.0965 - accuracy: 1.0000\n",
      "Epoch 83/100\n",
      "24/24 [==============================] - 0s 542us/step - loss: 0.0949 - accuracy: 1.0000\n",
      "Epoch 84/100\n",
      "24/24 [==============================] - 0s 542us/step - loss: 0.0933 - accuracy: 1.0000\n",
      "Epoch 85/100\n",
      "24/24 [==============================] - 0s 542us/step - loss: 0.0918 - accuracy: 1.0000\n",
      "Epoch 86/100\n",
      "24/24 [==============================] - 0s 542us/step - loss: 0.0904 - accuracy: 1.0000\n",
      "Epoch 87/100\n",
      "24/24 [==============================] - 0s 583us/step - loss: 0.0889 - accuracy: 1.0000\n",
      "Epoch 88/100\n",
      "24/24 [==============================] - 0s 583us/step - loss: 0.0875 - accuracy: 1.0000\n",
      "Epoch 89/100\n",
      "24/24 [==============================] - 0s 500us/step - loss: 0.0861 - accuracy: 1.0000\n",
      "Epoch 90/100\n",
      "24/24 [==============================] - 0s 542us/step - loss: 0.0847 - accuracy: 1.0000\n",
      "Epoch 91/100\n",
      "24/24 [==============================] - 0s 542us/step - loss: 0.0834 - accuracy: 1.0000\n",
      "Epoch 92/100\n",
      "24/24 [==============================] - 0s 500us/step - loss: 0.0821 - accuracy: 1.0000\n",
      "Epoch 93/100\n",
      "24/24 [==============================] - 0s 500us/step - loss: 0.0809 - accuracy: 1.0000\n",
      "Epoch 94/100\n",
      "24/24 [==============================] - 0s 542us/step - loss: 0.0796 - accuracy: 1.0000\n",
      "Epoch 95/100\n",
      "24/24 [==============================] - 0s 500us/step - loss: 0.0784 - accuracy: 1.0000\n",
      "Epoch 96/100\n",
      "24/24 [==============================] - 0s 500us/step - loss: 0.0772 - accuracy: 1.0000\n",
      "Epoch 97/100\n",
      "24/24 [==============================] - 0s 500us/step - loss: 0.0761 - accuracy: 1.0000\n",
      "Epoch 98/100\n",
      "24/24 [==============================] - 0s 500us/step - loss: 0.0749 - accuracy: 1.0000\n",
      "Epoch 99/100\n",
      "24/24 [==============================] - 0s 500us/step - loss: 0.0738 - accuracy: 1.0000\n",
      "Epoch 100/100\n",
      "24/24 [==============================] - 0s 584us/step - loss: 0.0727 - accuracy: 1.0000\n"
     ]
    }
   ],
   "source": [
    "# Fit the model to the training data\n",
    "fit_model = nn_model.fit(X_train_scaled, y_train, epochs=100)"
   ]
  },
  {
   "cell_type": "code",
   "execution_count": 11,
   "metadata": {},
   "outputs": [
    {
     "data": {
      "text/plain": [
       "<matplotlib.axes._subplots.AxesSubplot at 0x143ea109948>"
      ]
     },
     "execution_count": 11,
     "metadata": {},
     "output_type": "execute_result"
    },
    {
     "data": {
      "image/png": "[encoded data removed]",
      "text/plain": [
       "<Figure size 432x288 with 1 Axes>"
      ]
     },
     "metadata": {
      "needs_background": "light"
     },
     "output_type": "display_data"
    }
   ],
   "source": [
    "# Create a DF containing training history\n",
    "history_df = pd.DataFrame(fit_model.history, index=range(1, len(fit_model.history[\"loss\"])+1))\n",
    "\n",
    "# Plot the loss\n",
    "history_df.plot(y=\"loss\")"
   ]
  },
  {
   "cell_type": "code",
   "execution_count": 12,
   "metadata": {},
   "outputs": [
    {
     "data": {
      "text/plain": [
       "<matplotlib.axes._subplots.AxesSubplot at 0x143ea17e108>"
      ]
     },
     "execution_count": 12,
     "metadata": {},
     "output_type": "execute_result"
    },
    {
     "data": {
      "image/png": "[encoded data removed]",
      "text/plain": [
       "<Figure size 432x288 with 1 Axes>"
      ]
     },
     "metadata": {
      "needs_background": "light"
     },
     "output_type": "display_data"
    }
   ],
   "source": [
    "# Plot the accuracy\n",
    "history_df.plot(y=\"accuracy\")"
   ]
  },
  {
   "cell_type": "code",
   "execution_count": 13,
   "metadata": {},
   "outputs": [
    {
     "name": "stdout",
     "output_type": "stream",
     "text": [
      "WARNING:tensorflow:Callbacks method `on_test_batch_begin` is slow compared to the batch time (batch time: 0.0000s vs `on_test_batch_begin` time: 0.0010s). Check your callbacks.\n",
      "8/8 - 0s - loss: 0.0681 - accuracy: 1.0000\n",
      "Loss: 0.06812155246734619, Accuracy: 1.0\n"
     ]
    }
   ],
   "source": [
    "# Evaluate the model using the test data\n",
    "model_loss, model_accuracy = nn_model.evaluate(X_test_scaled, y_test, verbose=2)\n",
    "print(f\"Loss: {model_loss}, Accuracy: {model_accuracy}\")"
   ]
  },
  {
   "cell_type": "code",
   "execution_count": 14,
   "metadata": {},
   "outputs": [
    {
     "data": {
      "text/plain": [
       "array([[0],\n",
       "       [1],\n",
       "       [0],\n",
       "       [1],\n",
       "       [0],\n",
       "       [0],\n",
       "       [1],\n",
       "       [1],\n",
       "       [1],\n",
       "       [0]])"
      ]
     },
     "execution_count": 14,
     "metadata": {},
     "output_type": "execute_result"
    }
   ],
   "source": [
    "# Predict the classification of a new set of blob data\n",
    "new_X, new_Y = make_blobs(n_samples=10, centers=2, n_features=2, random_state=78)\n",
    "new_X_scaled = X_scaler.transform(new_X)\n",
    "(nn_model.predict(new_X_scaled) > 0.5).astype(\"int32\")"
   ]
  },
  {
   "cell_type": "code",
   "execution_count": 16,
   "metadata": {},
   "outputs": [
    {
     "data": {
      "text/plain": [
       "<matplotlib.axes._subplots.AxesSubplot at 0x143ea24c7c8>"
      ]
     },
     "execution_count": 16,
     "metadata": {},
     "output_type": "execute_result"
    },
    {
     "data": {
      "image/png": "[encoded data removed]",
      "text/plain": [
       "<Figure size 432x288 with 2 Axes>"
      ]
     },
     "metadata": {
      "needs_background": "light"
     },
     "output_type": "display_data"
    }
   ],
   "source": [
    "from sklearn.datasets import make_moons\n",
    "\n",
    "# Creating dummy nonlinear data\n",
    "X_moons, y_moons = make_moons(n_samples=1000, noise=0.08, random_state=78)\n",
    "\n",
    "# Transforming y_moons to a vertical vector\n",
    "y_moons = y_moons.reshape(-1, 1)\n",
    "\n",
    "# Creating a DF to plot the nonlinear dummy data\n",
    "df_moons = pd.DataFrame(X_moons, columns=[\"Feature 1\", \"Feature 2\"])\n",
    "df_moons[\"Target\"] = y_moons\n",
    "\n",
    "# Plot the nonlinear dummy data\n",
    "df_moons.plot.scatter(x=\"Feature 1\", y=\"Feature 2\", c=\"Target\", colormap=\"winter\")"
   ]
  },
  {
   "cell_type": "code",
   "execution_count": 17,
   "metadata": {},
   "outputs": [],
   "source": [
    "# Create training and testing sets\n",
    "X_moon_train, X_moon_test, y_moon_train, y_moon_test = train_test_split(\n",
    "    X_moons, y_moons, random_state=78\n",
    ")\n",
    "\n",
    "# Create the scaler instance\n",
    "X_moon_scaler = skl.preprocessing.StandardScaler()\n",
    "\n",
    "# Fit the scaler\n",
    "X_moon_scaler.fit(X_moon_train)\n",
    "\n",
    "# Scale the data\n",
    "X_moon_train_scaled = X_moon_scaler.transform(X_moon_train)\n",
    "X_moon_test_scaled = X_moon_scaler.transform(X_moon_test)"
   ]
  },
  {
   "cell_type": "code",
   "execution_count": 18,
   "metadata": {},
   "outputs": [
    {
     "name": "stdout",
     "output_type": "stream",
     "text": [
      "Epoch 1/100\n",
      "24/24 [==============================] - 0s 792us/step - loss: 0.7691 - accuracy: 0.6147\n",
      "Epoch 2/100\n",
      "24/24 [==============================] - ETA: 0s - loss: 0.5671 - accuracy: 0.75 - 0s 750us/step - loss: 0.6699 - accuracy: 0.6520\n",
      "Epoch 3/100\n",
      "24/24 [==============================] - 0s 750us/step - loss: 0.6057 - accuracy: 0.6707\n",
      "Epoch 4/100\n",
      "24/24 [==============================] - 0s 792us/step - loss: 0.5591 - accuracy: 0.6920\n",
      "Epoch 5/100\n",
      "24/24 [==============================] - 0s 792us/step - loss: 0.5250 - accuracy: 0.7080\n",
      "Epoch 6/100\n",
      "24/24 [==============================] - 0s 803us/step - loss: 0.4990 - accuracy: 0.7173\n",
      "Epoch 7/100\n",
      "24/24 [==============================] - 0s 834us/step - loss: 0.4772 - accuracy: 0.7307\n",
      "Epoch 8/100\n",
      "24/24 [==============================] - 0s 792us/step - loss: 0.4585 - accuracy: 0.7427\n",
      "Epoch 9/100\n",
      "24/24 [==============================] - 0s 792us/step - loss: 0.4428 - accuracy: 0.7467\n",
      "Epoch 10/100\n",
      "24/24 [==============================] - 0s 792us/step - loss: 0.4288 - accuracy: 0.7640\n",
      "Epoch 11/100\n",
      "24/24 [==============================] - 0s 750us/step - loss: 0.4161 - accuracy: 0.7760\n",
      "Epoch 12/100\n",
      "24/24 [==============================] - 0s 792us/step - loss: 0.4047 - accuracy: 0.7840\n",
      "Epoch 13/100\n",
      "24/24 [==============================] - 0s 834us/step - loss: 0.3945 - accuracy: 0.7853\n",
      "Epoch 14/100\n",
      "24/24 [==============================] - 0s 792us/step - loss: 0.3850 - accuracy: 0.7880\n",
      "Epoch 15/100\n",
      "24/24 [==============================] - 0s 834us/step - loss: 0.3764 - accuracy: 0.7933\n",
      "Epoch 16/100\n",
      "24/24 [==============================] - 0s 792us/step - loss: 0.3683 - accuracy: 0.7987\n",
      "Epoch 17/100\n",
      "24/24 [==============================] - 0s 834us/step - loss: 0.3610 - accuracy: 0.8013\n",
      "Epoch 18/100\n",
      "24/24 [==============================] - 0s 834us/step - loss: 0.3539 - accuracy: 0.8080\n",
      "Epoch 19/100\n",
      "24/24 [==============================] - 0s 792us/step - loss: 0.3473 - accuracy: 0.8120\n",
      "Epoch 20/100\n",
      "24/24 [==============================] - 0s 750us/step - loss: 0.3411 - accuracy: 0.8173\n",
      "Epoch 21/100\n",
      "24/24 [==============================] - 0s 792us/step - loss: 0.3353 - accuracy: 0.8253\n",
      "Epoch 22/100\n",
      "24/24 [==============================] - 0s 834us/step - loss: 0.3299 - accuracy: 0.8293\n",
      "Epoch 23/100\n",
      "24/24 [==============================] - 0s 792us/step - loss: 0.3249 - accuracy: 0.8320\n",
      "Epoch 24/100\n",
      "24/24 [==============================] - 0s 792us/step - loss: 0.3203 - accuracy: 0.8347\n",
      "Epoch 25/100\n",
      "24/24 [==============================] - 0s 792us/step - loss: 0.3160 - accuracy: 0.8453\n",
      "Epoch 26/100\n",
      "24/24 [==============================] - 0s 792us/step - loss: 0.3122 - accuracy: 0.8467\n",
      "Epoch 27/100\n",
      "24/24 [==============================] - 0s 792us/step - loss: 0.3085 - accuracy: 0.8493\n",
      "Epoch 28/100\n",
      "24/24 [==============================] - 0s 792us/step - loss: 0.3053 - accuracy: 0.8520\n",
      "Epoch 29/100\n",
      "24/24 [==============================] - 0s 750us/step - loss: 0.3022 - accuracy: 0.8573\n",
      "Epoch 30/100\n",
      "24/24 [==============================] - 0s 833us/step - loss: 0.2994 - accuracy: 0.8587\n",
      "Epoch 31/100\n",
      "24/24 [==============================] - 0s 834us/step - loss: 0.2970 - accuracy: 0.8627\n",
      "Epoch 32/100\n",
      "24/24 [==============================] - 0s 833us/step - loss: 0.2947 - accuracy: 0.8653\n",
      "Epoch 33/100\n",
      "24/24 [==============================] - 0s 834us/step - loss: 0.2925 - accuracy: 0.8667\n",
      "Epoch 34/100\n",
      "24/24 [==============================] - 0s 833us/step - loss: 0.2905 - accuracy: 0.8680\n",
      "Epoch 35/100\n",
      "24/24 [==============================] - 0s 750us/step - loss: 0.2887 - accuracy: 0.8680\n",
      "Epoch 36/100\n",
      "24/24 [==============================] - 0s 792us/step - loss: 0.2870 - accuracy: 0.8680\n",
      "Epoch 37/100\n",
      "24/24 [==============================] - 0s 834us/step - loss: 0.2854 - accuracy: 0.8707\n",
      "Epoch 38/100\n",
      "24/24 [==============================] - 0s 792us/step - loss: 0.2839 - accuracy: 0.8707\n",
      "Epoch 39/100\n",
      "24/24 [==============================] - 0s 792us/step - loss: 0.2826 - accuracy: 0.8707\n",
      "Epoch 40/100\n",
      "24/24 [==============================] - 0s 792us/step - loss: 0.2813 - accuracy: 0.8720\n",
      "Epoch 41/100\n",
      "24/24 [==============================] - 0s 792us/step - loss: 0.2802 - accuracy: 0.8733\n",
      "Epoch 42/100\n",
      "24/24 [==============================] - 0s 834us/step - loss: 0.2790 - accuracy: 0.8747\n",
      "Epoch 43/100\n",
      "24/24 [==============================] - 0s 792us/step - loss: 0.2779 - accuracy: 0.8773\n",
      "Epoch 44/100\n",
      "24/24 [==============================] - 0s 792us/step - loss: 0.2769 - accuracy: 0.8787\n",
      "Epoch 45/100\n",
      "24/24 [==============================] - 0s 833us/step - loss: 0.2760 - accuracy: 0.8787\n",
      "Epoch 46/100\n",
      "24/24 [==============================] - 0s 792us/step - loss: 0.2752 - accuracy: 0.8800\n",
      "Epoch 47/100\n",
      "24/24 [==============================] - 0s 792us/step - loss: 0.2743 - accuracy: 0.8827\n",
      "Epoch 48/100\n",
      "24/24 [==============================] - 0s 792us/step - loss: 0.2734 - accuracy: 0.8853\n",
      "Epoch 49/100\n",
      "24/24 [==============================] - 0s 792us/step - loss: 0.2727 - accuracy: 0.8880\n",
      "Epoch 50/100\n",
      "24/24 [==============================] - 0s 792us/step - loss: 0.2720 - accuracy: 0.8880\n",
      "Epoch 51/100\n",
      "24/24 [==============================] - 0s 792us/step - loss: 0.2713 - accuracy: 0.8880\n",
      "Epoch 52/100\n",
      "24/24 [==============================] - 0s 804us/step - loss: 0.2707 - accuracy: 0.8893\n",
      "Epoch 53/100\n",
      "24/24 [==============================] - 0s 792us/step - loss: 0.2701 - accuracy: 0.8893\n",
      "Epoch 54/100\n",
      "24/24 [==============================] - 0s 792us/step - loss: 0.2695 - accuracy: 0.8907\n",
      "Epoch 55/100\n",
      "24/24 [==============================] - 0s 792us/step - loss: 0.2689 - accuracy: 0.8907\n",
      "Epoch 56/100\n",
      "24/24 [==============================] - 0s 792us/step - loss: 0.2683 - accuracy: 0.8933\n",
      "Epoch 57/100\n",
      "24/24 [==============================] - 0s 792us/step - loss: 0.2679 - accuracy: 0.8933\n",
      "Epoch 58/100\n",
      "24/24 [==============================] - 0s 792us/step - loss: 0.2673 - accuracy: 0.8933\n",
      "Epoch 59/100\n",
      "24/24 [==============================] - 0s 792us/step - loss: 0.2669 - accuracy: 0.8933\n",
      "Epoch 60/100\n",
      "24/24 [==============================] - 0s 792us/step - loss: 0.2664 - accuracy: 0.8933\n",
      "Epoch 61/100\n",
      "24/24 [==============================] - 0s 792us/step - loss: 0.2659 - accuracy: 0.8933\n",
      "Epoch 62/100\n",
      "24/24 [==============================] - 0s 834us/step - loss: 0.2655 - accuracy: 0.8933\n",
      "Epoch 63/100\n",
      "24/24 [==============================] - 0s 792us/step - loss: 0.2650 - accuracy: 0.8933\n",
      "Epoch 64/100\n",
      "24/24 [==============================] - 0s 792us/step - loss: 0.2647 - accuracy: 0.8920\n",
      "Epoch 65/100\n",
      "24/24 [==============================] - 0s 792us/step - loss: 0.2643 - accuracy: 0.8920\n",
      "Epoch 66/100\n",
      "24/24 [==============================] - 0s 792us/step - loss: 0.2639 - accuracy: 0.8920\n",
      "Epoch 67/100\n",
      "24/24 [==============================] - 0s 750us/step - loss: 0.2636 - accuracy: 0.8920\n",
      "Epoch 68/100\n",
      "24/24 [==============================] - 0s 792us/step - loss: 0.2632 - accuracy: 0.8920\n",
      "Epoch 69/100\n",
      "24/24 [==============================] - 0s 750us/step - loss: 0.2628 - accuracy: 0.8920\n",
      "Epoch 70/100\n",
      "24/24 [==============================] - 0s 750us/step - loss: 0.2625 - accuracy: 0.8907\n",
      "Epoch 71/100\n",
      "24/24 [==============================] - 0s 750us/step - loss: 0.2622 - accuracy: 0.8907\n",
      "Epoch 72/100\n",
      "24/24 [==============================] - 0s 750us/step - loss: 0.2619 - accuracy: 0.8907\n",
      "Epoch 73/100\n",
      "24/24 [==============================] - 0s 792us/step - loss: 0.2617 - accuracy: 0.8907\n",
      "Epoch 74/100\n",
      "24/24 [==============================] - 0s 792us/step - loss: 0.2614 - accuracy: 0.8907\n",
      "Epoch 75/100\n",
      "24/24 [==============================] - 0s 792us/step - loss: 0.2611 - accuracy: 0.8907\n",
      "Epoch 76/100\n",
      "24/24 [==============================] - 0s 834us/step - loss: 0.2608 - accuracy: 0.8907\n",
      "Epoch 77/100\n",
      "24/24 [==============================] - 0s 834us/step - loss: 0.2606 - accuracy: 0.8907\n",
      "Epoch 78/100\n",
      "24/24 [==============================] - 0s 792us/step - loss: 0.2603 - accuracy: 0.8907\n",
      "Epoch 79/100\n",
      "24/24 [==============================] - 0s 875us/step - loss: 0.2601 - accuracy: 0.8920\n",
      "Epoch 80/100\n",
      "24/24 [==============================] - 0s 834us/step - loss: 0.2598 - accuracy: 0.8920\n"
     ]
    },
    {
     "name": "stdout",
     "output_type": "stream",
     "text": [
      "Epoch 81/100\n",
      "24/24 [==============================] - 0s 792us/step - loss: 0.2596 - accuracy: 0.8920\n",
      "Epoch 82/100\n",
      "24/24 [==============================] - 0s 792us/step - loss: 0.2594 - accuracy: 0.8920\n",
      "Epoch 83/100\n",
      "24/24 [==============================] - 0s 834us/step - loss: 0.2593 - accuracy: 0.8920\n",
      "Epoch 84/100\n",
      "24/24 [==============================] - 0s 792us/step - loss: 0.2589 - accuracy: 0.8920\n",
      "Epoch 85/100\n",
      "24/24 [==============================] - 0s 792us/step - loss: 0.2588 - accuracy: 0.8920\n",
      "Epoch 86/100\n",
      "24/24 [==============================] - 0s 792us/step - loss: 0.2585 - accuracy: 0.8920\n",
      "Epoch 87/100\n",
      "24/24 [==============================] - 0s 792us/step - loss: 0.2584 - accuracy: 0.8920\n",
      "Epoch 88/100\n",
      "24/24 [==============================] - 0s 792us/step - loss: 0.2582 - accuracy: 0.8920\n",
      "Epoch 89/100\n",
      "24/24 [==============================] - 0s 792us/step - loss: 0.2580 - accuracy: 0.8920\n",
      "Epoch 90/100\n",
      "24/24 [==============================] - 0s 750us/step - loss: 0.2577 - accuracy: 0.8920\n",
      "Epoch 91/100\n",
      "24/24 [==============================] - 0s 792us/step - loss: 0.2576 - accuracy: 0.8920\n",
      "Epoch 92/100\n",
      "24/24 [==============================] - 0s 792us/step - loss: 0.2574 - accuracy: 0.8920\n",
      "Epoch 93/100\n",
      "24/24 [==============================] - 0s 792us/step - loss: 0.2574 - accuracy: 0.8920\n",
      "Epoch 94/100\n",
      "24/24 [==============================] - 0s 792us/step - loss: 0.2571 - accuracy: 0.8920\n",
      "Epoch 95/100\n",
      "24/24 [==============================] - 0s 792us/step - loss: 0.2570 - accuracy: 0.8920\n",
      "Epoch 96/100\n",
      "24/24 [==============================] - 0s 750us/step - loss: 0.2568 - accuracy: 0.8920\n",
      "Epoch 97/100\n",
      "24/24 [==============================] - 0s 792us/step - loss: 0.2567 - accuracy: 0.8920\n",
      "Epoch 98/100\n",
      "24/24 [==============================] - 0s 792us/step - loss: 0.2565 - accuracy: 0.8920\n",
      "Epoch 99/100\n",
      "24/24 [==============================] - 0s 804us/step - loss: 0.2564 - accuracy: 0.8920\n",
      "Epoch 100/100\n",
      "24/24 [==============================] - 0s 792us/step - loss: 0.2562 - accuracy: 0.8920\n"
     ]
    }
   ],
   "source": [
    "# Training the model with the nonlinear data\n",
    "model_moon = nn_model.fit(X_moon_train_scaled, y_moon_train, epochs=100, shuffle=True)"
   ]
  },
  {
   "cell_type": "code",
   "execution_count": 19,
   "metadata": {},
   "outputs": [
    {
     "data": {
      "text/plain": [
       "<matplotlib.axes._subplots.AxesSubplot at 0x143efad7f08>"
      ]
     },
     "execution_count": 19,
     "metadata": {},
     "output_type": "execute_result"
    },
    {
     "data": {
      "image/png": "[encoded data removed]",
      "text/plain": [
       "<Figure size 432x288 with 1 Axes>"
      ]
     },
     "metadata": {
      "needs_background": "light"
     },
     "output_type": "display_data"
    }
   ],
   "source": [
    "# Create a DataFrame containing training history\n",
    "history_df = pd.DataFrame(model_moon.history, index=range(1,len(model_moon.history[\"loss\"])+1))\n",
    "\n",
    "# Plot the loss\n",
    "history_df.plot(y=\"loss\")"
   ]
  },
  {
   "cell_type": "code",
   "execution_count": 20,
   "metadata": {},
   "outputs": [
    {
     "data": {
      "text/plain": [
       "<matplotlib.axes._subplots.AxesSubplot at 0x143efb5d288>"
      ]
     },
     "execution_count": 20,
     "metadata": {},
     "output_type": "execute_result"
    },
    {
     "data": {
      "image/png": "[encoded data removed]",
      "text/plain": [
       "<Figure size 432x288 with 1 Axes>"
      ]
     },
     "metadata": {
      "needs_background": "light"
     },
     "output_type": "display_data"
    }
   ],
   "source": [
    "# Plot the loss\n",
    "history_df.plot(y=\"accuracy\")"
   ]
  },
  {
   "cell_type": "code",
   "execution_count": 21,
   "metadata": {},
   "outputs": [],
   "source": [
    "# Generate our new Sequential model\n",
    "new_model = tf.keras.models.Sequential()"
   ]
  },
  {
   "cell_type": "code",
   "execution_count": 22,
   "metadata": {},
   "outputs": [],
   "source": [
    "# Add the input and hidden layer\n",
    "number_inputs = 2\n",
    "number_hidden_nodes = 6\n",
    "\n",
    "new_model.add(tf.keras.layers.Dense(units=number_hidden_nodes, activation=\"relu\", input_dim=number_inputs))\n",
    "\n",
    "# Add the output layer that uses a probability activation function\n",
    "new_model.add(tf.keras.layers.Dense(units=1, activation=\"sigmoid\"))"
   ]
  },
  {
   "cell_type": "code",
   "execution_count": 23,
   "metadata": {},
   "outputs": [
    {
     "name": "stdout",
     "output_type": "stream",
     "text": [
      "Epoch 1/100\n",
      " 1/24 [>.............................] - ETA: 0s - loss: 0.7476 - accuracy: 0.5938WARNING:tensorflow:Callbacks method `on_train_batch_begin` is slow compared to the batch time (batch time: 0.0000s vs `on_train_batch_begin` time: 0.0010s). Check your callbacks.\n",
      "24/24 [==============================] - 0s 542us/step - loss: 0.8338 - accuracy: 0.5693\n",
      "Epoch 2/100\n",
      "24/24 [==============================] - 0s 500us/step - loss: 0.7954 - accuracy: 0.5973\n",
      "Epoch 3/100\n",
      "24/24 [==============================] - 0s 500us/step - loss: 0.7625 - accuracy: 0.6213\n",
      "Epoch 4/100\n",
      "24/24 [==============================] - 0s 500us/step - loss: 0.7333 - accuracy: 0.6427\n",
      "Epoch 5/100\n",
      "24/24 [==============================] - 0s 542us/step - loss: 0.7052 - accuracy: 0.6587\n",
      "Epoch 6/100\n",
      "24/24 [==============================] - 0s 500us/step - loss: 0.6787 - accuracy: 0.6787\n",
      "Epoch 7/100\n",
      "24/24 [==============================] - 0s 500us/step - loss: 0.6532 - accuracy: 0.6880\n",
      "Epoch 8/100\n",
      "24/24 [==============================] - 0s 500us/step - loss: 0.6268 - accuracy: 0.6947\n",
      "Epoch 9/100\n",
      "24/24 [==============================] - 0s 500us/step - loss: 0.6017 - accuracy: 0.6880\n",
      "Epoch 10/100\n",
      "24/24 [==============================] - 0s 500us/step - loss: 0.5763 - accuracy: 0.7027\n",
      "Epoch 11/100\n",
      "24/24 [==============================] - 0s 542us/step - loss: 0.5525 - accuracy: 0.7133\n",
      "Epoch 12/100\n",
      "24/24 [==============================] - 0s 542us/step - loss: 0.5295 - accuracy: 0.7280\n",
      "Epoch 13/100\n",
      "24/24 [==============================] - 0s 542us/step - loss: 0.5078 - accuracy: 0.7387\n",
      "Epoch 14/100\n",
      "24/24 [==============================] - 0s 542us/step - loss: 0.4875 - accuracy: 0.7547\n",
      "Epoch 15/100\n",
      "24/24 [==============================] - 0s 542us/step - loss: 0.4686 - accuracy: 0.7680\n",
      "Epoch 16/100\n",
      "24/24 [==============================] - 0s 542us/step - loss: 0.4508 - accuracy: 0.7787\n",
      "Epoch 17/100\n",
      "24/24 [==============================] - 0s 500us/step - loss: 0.4345 - accuracy: 0.7867\n",
      "Epoch 18/100\n",
      "24/24 [==============================] - 0s 500us/step - loss: 0.4193 - accuracy: 0.7947\n",
      "Epoch 19/100\n",
      "24/24 [==============================] - 0s 500us/step - loss: 0.4054 - accuracy: 0.8013\n",
      "Epoch 20/100\n",
      "24/24 [==============================] - 0s 500us/step - loss: 0.3925 - accuracy: 0.8080\n",
      "Epoch 21/100\n",
      "24/24 [==============================] - 0s 500us/step - loss: 0.3808 - accuracy: 0.8107\n",
      "Epoch 22/100\n",
      "24/24 [==============================] - 0s 542us/step - loss: 0.3700 - accuracy: 0.8173\n",
      "Epoch 23/100\n",
      "24/24 [==============================] - 0s 542us/step - loss: 0.3601 - accuracy: 0.8240\n",
      "Epoch 24/100\n",
      "24/24 [==============================] - 0s 542us/step - loss: 0.3513 - accuracy: 0.8333\n",
      "Epoch 25/100\n",
      "24/24 [==============================] - 0s 542us/step - loss: 0.3429 - accuracy: 0.8507\n",
      "Epoch 26/100\n",
      "24/24 [==============================] - 0s 542us/step - loss: 0.3355 - accuracy: 0.8533\n",
      "Epoch 27/100\n",
      "24/24 [==============================] - 0s 542us/step - loss: 0.3286 - accuracy: 0.8600\n",
      "Epoch 28/100\n",
      "24/24 [==============================] - 0s 542us/step - loss: 0.3222 - accuracy: 0.8680\n",
      "Epoch 29/100\n",
      "24/24 [==============================] - 0s 542us/step - loss: 0.3166 - accuracy: 0.8720\n",
      "Epoch 30/100\n",
      "24/24 [==============================] - 0s 555us/step - loss: 0.3116 - accuracy: 0.8720\n",
      "Epoch 31/100\n",
      "24/24 [==============================] - 0s 542us/step - loss: 0.3066 - accuracy: 0.8747\n",
      "Epoch 32/100\n",
      "24/24 [==============================] - 0s 542us/step - loss: 0.3024 - accuracy: 0.8773\n",
      "Epoch 33/100\n",
      "24/24 [==============================] - 0s 500us/step - loss: 0.2985 - accuracy: 0.8800\n",
      "Epoch 34/100\n",
      "24/24 [==============================] - 0s 500us/step - loss: 0.2948 - accuracy: 0.8813\n",
      "Epoch 35/100\n",
      "24/24 [==============================] - 0s 500us/step - loss: 0.2915 - accuracy: 0.8827\n",
      "Epoch 36/100\n",
      "24/24 [==============================] - 0s 542us/step - loss: 0.2887 - accuracy: 0.8840\n",
      "Epoch 37/100\n",
      "24/24 [==============================] - 0s 542us/step - loss: 0.2860 - accuracy: 0.8853\n",
      "Epoch 38/100\n",
      "24/24 [==============================] - 0s 542us/step - loss: 0.2833 - accuracy: 0.8827\n",
      "Epoch 39/100\n",
      "24/24 [==============================] - 0s 542us/step - loss: 0.2810 - accuracy: 0.8813\n",
      "Epoch 40/100\n",
      "24/24 [==============================] - 0s 542us/step - loss: 0.2787 - accuracy: 0.8827\n",
      "Epoch 41/100\n",
      "24/24 [==============================] - 0s 542us/step - loss: 0.2767 - accuracy: 0.8867\n",
      "Epoch 42/100\n",
      "24/24 [==============================] - 0s 542us/step - loss: 0.2747 - accuracy: 0.8853\n",
      "Epoch 43/100\n",
      "24/24 [==============================] - 0s 500us/step - loss: 0.2730 - accuracy: 0.8867\n",
      "Epoch 44/100\n",
      "24/24 [==============================] - 0s 542us/step - loss: 0.2714 - accuracy: 0.8867\n",
      "Epoch 45/100\n",
      "24/24 [==============================] - 0s 542us/step - loss: 0.2702 - accuracy: 0.8880\n",
      "Epoch 46/100\n",
      "24/24 [==============================] - 0s 542us/step - loss: 0.2689 - accuracy: 0.8880\n",
      "Epoch 47/100\n",
      "24/24 [==============================] - 0s 542us/step - loss: 0.2678 - accuracy: 0.8907\n",
      "Epoch 48/100\n",
      "24/24 [==============================] - 0s 542us/step - loss: 0.2666 - accuracy: 0.8907\n",
      "Epoch 49/100\n",
      "24/24 [==============================] - 0s 542us/step - loss: 0.2655 - accuracy: 0.8920\n",
      "Epoch 50/100\n",
      "24/24 [==============================] - 0s 584us/step - loss: 0.2646 - accuracy: 0.8920\n",
      "Epoch 51/100\n",
      "24/24 [==============================] - 0s 500us/step - loss: 0.2638 - accuracy: 0.8920\n",
      "Epoch 52/100\n",
      "24/24 [==============================] - 0s 583us/step - loss: 0.2629 - accuracy: 0.8933\n",
      "Epoch 53/100\n",
      "24/24 [==============================] - 0s 542us/step - loss: 0.2625 - accuracy: 0.8920\n",
      "Epoch 54/100\n",
      "24/24 [==============================] - 0s 500us/step - loss: 0.2615 - accuracy: 0.8933\n",
      "Epoch 55/100\n",
      "24/24 [==============================] - 0s 500us/step - loss: 0.2609 - accuracy: 0.8947\n",
      "Epoch 56/100\n",
      "24/24 [==============================] - 0s 500us/step - loss: 0.2603 - accuracy: 0.8960\n",
      "Epoch 57/100\n",
      "24/24 [==============================] - 0s 500us/step - loss: 0.2598 - accuracy: 0.8960\n",
      "Epoch 58/100\n",
      "24/24 [==============================] - 0s 500us/step - loss: 0.2592 - accuracy: 0.8960\n",
      "Epoch 59/100\n",
      "24/24 [==============================] - 0s 500us/step - loss: 0.2586 - accuracy: 0.8960\n",
      "Epoch 60/100\n",
      "24/24 [==============================] - 0s 542us/step - loss: 0.2582 - accuracy: 0.8973\n",
      "Epoch 61/100\n",
      "24/24 [==============================] - 0s 542us/step - loss: 0.2576 - accuracy: 0.8973\n",
      "Epoch 62/100\n",
      "24/24 [==============================] - 0s 500us/step - loss: 0.2571 - accuracy: 0.8973\n",
      "Epoch 63/100\n",
      "24/24 [==============================] - 0s 542us/step - loss: 0.2567 - accuracy: 0.8973\n",
      "Epoch 64/100\n",
      "24/24 [==============================] - 0s 542us/step - loss: 0.2563 - accuracy: 0.8973\n",
      "Epoch 65/100\n",
      "24/24 [==============================] - 0s 542us/step - loss: 0.2559 - accuracy: 0.8973\n",
      "Epoch 66/100\n",
      "24/24 [==============================] - 0s 500us/step - loss: 0.2555 - accuracy: 0.8973\n",
      "Epoch 67/100\n",
      "24/24 [==============================] - 0s 542us/step - loss: 0.2552 - accuracy: 0.8973\n",
      "Epoch 68/100\n",
      "24/24 [==============================] - 0s 500us/step - loss: 0.2549 - accuracy: 0.8973\n",
      "Epoch 69/100\n",
      "24/24 [==============================] - 0s 542us/step - loss: 0.2547 - accuracy: 0.8960\n",
      "Epoch 70/100\n",
      "24/24 [==============================] - 0s 500us/step - loss: 0.2543 - accuracy: 0.8960\n",
      "Epoch 71/100\n",
      "24/24 [==============================] - 0s 542us/step - loss: 0.2541 - accuracy: 0.8960\n",
      "Epoch 72/100\n",
      "24/24 [==============================] - 0s 542us/step - loss: 0.2537 - accuracy: 0.8960\n",
      "Epoch 73/100\n",
      "24/24 [==============================] - 0s 542us/step - loss: 0.2535 - accuracy: 0.8960\n",
      "Epoch 74/100\n",
      "24/24 [==============================] - 0s 542us/step - loss: 0.2532 - accuracy: 0.8960\n",
      "Epoch 75/100\n",
      "24/24 [==============================] - 0s 542us/step - loss: 0.2530 - accuracy: 0.8960\n",
      "Epoch 76/100\n",
      "24/24 [==============================] - 0s 542us/step - loss: 0.2528 - accuracy: 0.8960\n",
      "Epoch 77/100\n",
      "24/24 [==============================] - 0s 500us/step - loss: 0.2526 - accuracy: 0.8947\n",
      "Epoch 78/100\n"
     ]
    },
    {
     "name": "stdout",
     "output_type": "stream",
     "text": [
      "24/24 [==============================] - 0s 542us/step - loss: 0.2524 - accuracy: 0.8947\n",
      "Epoch 79/100\n",
      "24/24 [==============================] - 0s 500us/step - loss: 0.2521 - accuracy: 0.8947\n",
      "Epoch 80/100\n",
      "24/24 [==============================] - 0s 542us/step - loss: 0.2519 - accuracy: 0.8947\n",
      "Epoch 81/100\n",
      "24/24 [==============================] - 0s 500us/step - loss: 0.2518 - accuracy: 0.8947\n",
      "Epoch 82/100\n",
      "24/24 [==============================] - 0s 500us/step - loss: 0.2515 - accuracy: 0.8947\n",
      "Epoch 83/100\n",
      "24/24 [==============================] - 0s 500us/step - loss: 0.2514 - accuracy: 0.8933\n",
      "Epoch 84/100\n",
      "24/24 [==============================] - 0s 500us/step - loss: 0.2511 - accuracy: 0.8947\n",
      "Epoch 85/100\n",
      "24/24 [==============================] - 0s 500us/step - loss: 0.2509 - accuracy: 0.8947\n",
      "Epoch 86/100\n",
      "24/24 [==============================] - 0s 458us/step - loss: 0.2507 - accuracy: 0.8947\n",
      "Epoch 87/100\n",
      "24/24 [==============================] - 0s 500us/step - loss: 0.2505 - accuracy: 0.8960\n",
      "Epoch 88/100\n",
      "24/24 [==============================] - 0s 542us/step - loss: 0.2504 - accuracy: 0.8960\n",
      "Epoch 89/100\n",
      "24/24 [==============================] - 0s 500us/step - loss: 0.2501 - accuracy: 0.8960\n",
      "Epoch 90/100\n",
      "24/24 [==============================] - 0s 500us/step - loss: 0.2500 - accuracy: 0.8960\n",
      "Epoch 91/100\n",
      "24/24 [==============================] - 0s 500us/step - loss: 0.2499 - accuracy: 0.8960\n",
      "Epoch 92/100\n",
      "24/24 [==============================] - 0s 542us/step - loss: 0.2497 - accuracy: 0.8960\n",
      "Epoch 93/100\n",
      "24/24 [==============================] - 0s 542us/step - loss: 0.2496 - accuracy: 0.8960\n",
      "Epoch 94/100\n",
      "24/24 [==============================] - ETA: 0s - loss: 0.2826 - accuracy: 0.87 - 0s 542us/step - loss: 0.2494 - accuracy: 0.8960\n",
      "Epoch 95/100\n",
      "24/24 [==============================] - 0s 542us/step - loss: 0.2493 - accuracy: 0.8960\n",
      "Epoch 96/100\n",
      "24/24 [==============================] - 0s 542us/step - loss: 0.2491 - accuracy: 0.8960\n",
      "Epoch 97/100\n",
      "24/24 [==============================] - 0s 514us/step - loss: 0.2490 - accuracy: 0.8960\n",
      "Epoch 98/100\n",
      "24/24 [==============================] - 0s 500us/step - loss: 0.2488 - accuracy: 0.8960\n",
      "Epoch 99/100\n",
      "24/24 [==============================] - 0s 542us/step - loss: 0.2488 - accuracy: 0.8960\n",
      "Epoch 100/100\n",
      "24/24 [==============================] - 0s 500us/step - loss: 0.2486 - accuracy: 0.8960\n"
     ]
    }
   ],
   "source": [
    "# Compile the Sequential model together and customize metrics\n",
    "new_model.compile(loss=\"binary_crossentropy\", optimizer=\"adam\", metrics=[\"accuracy\"])\n",
    "\n",
    "# Fit the model to the training data\n",
    "new_fit_model = new_model.fit(X_moon_train_scaled, y_moon_train, epochs=100, shuffle=True)"
   ]
  },
  {
   "cell_type": "code",
   "execution_count": null,
   "metadata": {},
   "outputs": [],
   "source": []
  }
 ],
 "metadata": {
  "kernelspec": {
   "display_name": "mlenv",
   "language": "python",
   "name": "mlenv"
  },
  "language_info": {
   "codemirror_mode": {
    "name": "ipython",
    "version": 3
   },
   "file_extension": ".py",
   "mimetype": "text/x-python",
   "name": "python",
   "nbconvert_exporter": "python",
   "pygments_lexer": "ipython3",
   "version": "3.7.7"
  }
 },
 "nbformat": 4,
 "nbformat_minor": 4
}
